{
  "nbformat": 4,
  "nbformat_minor": 0,
  "metadata": {
    "colab": {
      "provenance": [],
      "authorship_tag": "ABX9TyNB+OTJMBxzbAaJvJKYIRhM",
      "include_colab_link": true
    },
    "kernelspec": {
      "name": "python3",
      "display_name": "Python 3"
    },
    "language_info": {
      "name": "python"
    }
  },
  "cells": [
    {
      "cell_type": "markdown",
      "metadata": {
        "id": "view-in-github",
        "colab_type": "text"
      },
      "source": [
        "<a href=\"https://colab.research.google.com/github/Tejachennuru/Software_Engneering_HU22CSEN0101596/blob/main/SE_Exp_1.ipynb\" target=\"_parent\"><img src=\"https://colab.research.google.com/assets/colab-badge.svg\" alt=\"Open In Colab\"/></a>"
      ]
    },
    {
      "cell_type": "code",
      "source": [
        "def Temperature_Modeling(a,b,c,time):\n",
        "  temp = a*time**2 + b*time + c\n",
        "  return temp"
      ],
      "metadata": {
        "id": "Ra8rjBGJnNaO"
      },
      "execution_count": 1,
      "outputs": []
    },
    {
      "cell_type": "code",
      "execution_count": 2,
      "metadata": {
        "id": "6bDYuDXwjPmU"
      },
      "outputs": [],
      "source": [
        "a = 1\n",
        "b = 2\n",
        "c = 3\n",
        "time = 5"
      ]
    },
    {
      "cell_type": "code",
      "source": [
        "print(f\"The Predicted Temperature at time {time} is {Temperature_Modeling(a,b,c,time)}\")"
      ],
      "metadata": {
        "colab": {
          "base_uri": "https://localhost:8080/"
        },
        "id": "Axaow_0Rn5BI",
        "outputId": "8bce921a-7012-4860-dd39-1ecb4d705507"
      },
      "execution_count": 8,
      "outputs": [
        {
          "output_type": "stream",
          "name": "stdout",
          "text": [
            "The Predicted Temperature at time 5 is 38\n"
          ]
        }
      ]
    },
    {
      "cell_type": "code",
      "source": [
        "a = float(input(\"Enter coeffient a: \"))\n",
        "b = float(input(\"Enter coeffient b: \"))\n",
        "c = float(input(\"Enter coeffient c: \"))\n",
        "time = float(input(\"Enter time: \"))"
      ],
      "metadata": {
        "colab": {
          "base_uri": "https://localhost:8080/"
        },
        "id": "2h2sX0Rtm93F",
        "outputId": "ba93336e-45e5-4749-c204-1b3eea84c94e"
      },
      "execution_count": 9,
      "outputs": [
        {
          "name": "stdout",
          "output_type": "stream",
          "text": [
            "Enter coeffient a: 2\n",
            "Enter coeffient a: 5\n",
            "Enter coeffient a: 7\n",
            "Enter time: 6\n"
          ]
        }
      ]
    },
    {
      "cell_type": "code",
      "source": [
        "print(f\"The Predicted Temperature at time {time} is {Temperature_Modeling(a,b,c,time)}\")"
      ],
      "metadata": {
        "colab": {
          "base_uri": "https://localhost:8080/"
        },
        "id": "cip2S2Cgol3r",
        "outputId": "49897767-f441-48fe-8967-d662b7be3d1c"
      },
      "execution_count": 11,
      "outputs": [
        {
          "output_type": "stream",
          "name": "stdout",
          "text": [
            "The Predicted Temperature at time 6.0 is 109.0\n"
          ]
        }
      ]
    },
    {
      "cell_type": "code",
      "source": [
        "def read_from_file(filename):\n",
        "  with open(filename, 'r') as f:\n",
        "    lines = f.readlines()\n",
        "  coefficients = [tuple(map(float, line.strip().split(','))) for line in lines]\n",
        "  return coefficients"
      ],
      "metadata": {
        "id": "-KO2RVE3orqE"
      },
      "execution_count": 13,
      "outputs": []
    },
    {
      "cell_type": "code",
      "source": [
        "coefficients = read_from_file('/content/input.txt')\n",
        "a, b, c, time = coefficients[0]\n",
        "print(f\"The Predicted Temperature at time {time} is {Temperature_Modeling(a,b,c,time)}\")"
      ],
      "metadata": {
        "colab": {
          "base_uri": "https://localhost:8080/"
        },
        "id": "8a_elTBHsUyV",
        "outputId": "c268629c-d805-4581-bb53-872bc044b00f"
      },
      "execution_count": 14,
      "outputs": [
        {
          "output_type": "stream",
          "name": "stdout",
          "text": [
            "The Predicted Temperature at time 6.0 is 263.0\n"
          ]
        }
      ]
    },
    {
      "cell_type": "code",
      "source": [
        "for idx, (a,b,c,time) in enumerate(coefficients):\n",
        "  temperature = Temperature_Modeling(a,b,c,time)\n",
        "  print(f\"The Predicted Temperature at time {time} is {Temperature_Modeling(a,b,c,time)}\")"
      ],
      "metadata": {
        "colab": {
          "base_uri": "https://localhost:8080/"
        },
        "id": "3HZ2LXFbpjHB",
        "outputId": "6081a078-a685-4f74-d5ec-2db99bf5d090"
      },
      "execution_count": 18,
      "outputs": [
        {
          "output_type": "stream",
          "name": "stdout",
          "text": [
            "The Predicted Temperature at time 6.0 is 263.0\n",
            "The Predicted Temperature at time 1.0 is 14.0\n",
            "The Predicted Temperature at time 1.0 is 24.0\n",
            "The Predicted Temperature at time 30.0 is 9365.0\n"
          ]
        }
      ]
    },
    {
      "cell_type": "code",
      "source": [],
      "metadata": {
        "id": "WYQDo4Toui78"
      },
      "execution_count": null,
      "outputs": []
    }
  ]
}